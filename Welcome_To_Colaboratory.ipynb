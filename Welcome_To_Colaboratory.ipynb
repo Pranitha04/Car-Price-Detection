{
  "nbformat": 4,
  "nbformat_minor": 0,
  "metadata": {
    "colab": {
      "name": "Welcome To Colaboratory",
      "provenance": [],
      "collapsed_sections": [],
      "include_colab_link": true
    },
    "kernelspec": {
      "display_name": "Python 3",
      "name": "python3"
    }
  },
  "cells": [
    {
      "cell_type": "markdown",
      "metadata": {
        "id": "view-in-github",
        "colab_type": "text"
      },
      "source": [
        "<a href=\"https://colab.research.google.com/github/Pranitha04/Car-Price-Detection/blob/main/Welcome_To_Colaboratory.ipynb\" target=\"_parent\"><img src=\"https://colab.research.google.com/assets/colab-badge.svg\" alt=\"Open In Colab\"/></a>"
      ]
    },
    {
      "cell_type": "code",
      "metadata": {
        "id": "7DF7UHIOhcif"
      },
      "source": [
        "import matplotlib.pyplot as plt\n",
        "import numpy as np\n",
        "from sklearn.linear_model import LinearRegression\n",
        "import pandas as pd"
      ],
      "execution_count": 2,
      "outputs": []
    },
    {
      "cell_type": "code",
      "metadata": {
        "id": "peLn1F35hhX2"
      },
      "source": [
        "X = [1, 2, 3, 4]\n",
        "Y = [2, 4, 6, 8]"
      ],
      "execution_count": 3,
      "outputs": []
    },
    {
      "cell_type": "code",
      "metadata": {
        "colab": {
          "base_uri": "https://localhost:8080/",
          "height": 282
        },
        "id": "0Ouv-d7HhjHM",
        "outputId": "ac5245b7-e9f3-431e-f214-9dacd373c1b2"
      },
      "source": [
        "plt.scatter(X, Y)"
      ],
      "execution_count": 4,
      "outputs": [
        {
          "output_type": "execute_result",
          "data": {
            "text/plain": [
              "<matplotlib.collections.PathCollection at 0x7f0733acce10>"
            ]
          },
          "metadata": {},
          "execution_count": 4
        },
        {
          "output_type": "display_data",
          "data": {
            "image/png": "[encoded data removed]",
            "text/plain": [
              "<Figure size 432x288 with 1 Axes>"
            ]
          },
          "metadata": {
            "needs_background": "light"
          }
        }
      ]
    },
    {
      "cell_type": "code",
      "metadata": {
        "id": "0N1lU6E0hjfI"
      },
      "source": [
        "# notice small alpha value\n",
        "alpha = 0.0001\n",
        "iters = 600\n",
        "\n",
        "# theta is a row vector\n",
        "theta = np.array([[3, 3, 3, 3]])"
      ],
      "execution_count": 5,
      "outputs": []
    },
    {
      "cell_type": "code",
      "metadata": {
        "id": "RVsSTs5hhjps"
      },
      "source": [
        "def computeCost(X, y, theta):\n",
        "    inner = np.power(((X @ theta.T) - y), 2) # @ means matrix multiplication of arrays. If we want to use * for multiplication we will have to convert all arrays to matrices\n",
        "    return np.sum(inner) / (2 * len(X))\n"
      ],
      "execution_count": 7,
      "outputs": []
    },
    {
      "cell_type": "code",
      "metadata": {
        "colab": {
          "base_uri": "https://localhost:8080/"
        },
        "id": "Y2Bh9hp4hjws",
        "outputId": "e4021cf2-e06d-4448-b29e-69d84bc0d352"
      },
      "source": [
        "computeCost(X, Y, theta)"
      ],
      "execution_count": 8,
      "outputs": [
        {
          "output_type": "execute_result",
          "data": {
            "text/plain": [
              "315.0"
            ]
          },
          "metadata": {},
          "execution_count": 8
        }
      ]
    },
    {
      "cell_type": "code",
      "metadata": {
        "id": "_tWiax1jhj01"
      },
      "source": [
        "def gradientDescent(X, Y, theta, alpha, iters):\n",
        "    for i in range(iters):\n",
        "        cost = computeCost(X, Y, theta)\n",
        "        theta = theta - (alpha/len(X)) * np.sum((X @ theta.T - Y), axis=0)\n",
        "        \n",
        "        if i % 50 == 0: # just look at cost every ten loops for debugging\n",
        "            print(cost)\n",
        "            print(theta)\n",
        "            print((alpha/len(X)) * np.sum((X @ theta.T - Y), axis=0))\n",
        "\n",
        "    return (theta, cost)"
      ],
      "execution_count": 9,
      "outputs": []
    },
    {
      "cell_type": "code",
      "metadata": {
        "id": "ndOXcNdchj4I"
      },
      "source": [
        "# notice small alpha value\n",
        "alpha = 0.0001\n",
        "iters = 650\n",
        "\n",
        "# theta is a row vector\n",
        "theta = np.array([[3, 3, 3, 3]])\n",
        "g, cost = gradientDescent(X, Y, theta, alpha, iters)  \n",
        "print(g, cost)"
      ],
      "execution_count": null,
      "outputs": []
    },
    {
      "cell_type": "code",
      "metadata": {
        "id": "EHObTF9xhj8G"
      },
      "source": [
        "g"
      ],
      "execution_count": null,
      "outputs": []
    },
    {
      "cell_type": "code",
      "metadata": {
        "id": "Lgs76qEdhj_l"
      },
      "source": [
        "plt.scatter(X, Y)\n",
        "axes = plt.gca()\n",
        "x_vals = np.array(axes.get_xlim()) \n",
        "y_vals = g[0][0] * x_vals #the line equation\n",
        "plt.plot(x_vals, y_vals, '--')\n",
        "plt.legend()"
      ],
      "execution_count": null,
      "outputs": []
    },
    {
      "cell_type": "code",
      "metadata": {
        "id": "e_XnaNPphkCW"
      },
      "source": [
        "import warnings\n",
        "warnings.filterwarnings('ignore')\n",
        "\n",
        "#importing the libraries\n",
        "import numpy as np\n",
        "import pandas as pd\n",
        "import matplotlib.pyplot as plt\n",
        "import seaborn as sns"
      ],
      "execution_count": null,
      "outputs": []
    },
    {
      "cell_type": "code",
      "metadata": {
        "id": "HvuhWw_7hkFc"
      },
      "source": [
        "cars = pd.read_csv('CarPrice_Assignment.csv')\n",
        "cars.head()"
      ],
      "execution_count": null,
      "outputs": []
    },
    {
      "cell_type": "code",
      "metadata": {
        "id": "NL7oPH0ehkIz"
      },
      "source": [
        "cars.shape"
      ],
      "execution_count": null,
      "outputs": []
    },
    {
      "cell_type": "code",
      "metadata": {
        "id": "1spBHJPRhkL0"
      },
      "source": [
        "cars.describe()"
      ],
      "execution_count": null,
      "outputs": []
    },
    {
      "cell_type": "code",
      "metadata": {
        "id": "z0skDilGhkOr"
      },
      "source": [
        "cars.info()"
      ],
      "execution_count": null,
      "outputs": []
    },
    {
      "cell_type": "code",
      "metadata": {
        "id": "9eB_Dv50hkRP"
      },
      "source": [
        "#Splitting company name from CarName column\n",
        "CompanyName = cars['CarName'].apply(lambda x : x.split(' ')[0])\n",
        "cars.insert(3,\"CompanyName\",CompanyName)\n",
        "cars.drop(['CarName'],axis=1,inplace=True)\n",
        "cars.head()"
      ],
      "execution_count": null,
      "outputs": []
    },
    {
      "cell_type": "code",
      "metadata": {
        "id": "qA7zM9d9hkT0"
      },
      "source": [
        "cars.CompanyName.unique()"
      ],
      "execution_count": null,
      "outputs": []
    },
    {
      "cell_type": "code",
      "metadata": {
        "id": "NXEH5gljhkXC"
      },
      "source": [
        "cars.CompanyName = cars.CompanyName.str.lower()\n",
        "\n",
        "def replace_name(a,b):\n",
        "    cars.CompanyName.replace(a,b,inplace=True)\n",
        "\n",
        "replace_name('maxda','mazda')\n",
        "replace_name('porcshce','porsche')\n",
        "replace_name('toyouta','toyota')\n",
        "replace_name('vokswagen','volkswagen')\n",
        "replace_name('vw','volkswagen')\n",
        "\n",
        "cars.CompanyName.unique()"
      ],
      "execution_count": null,
      "outputs": []
    },
    {
      "cell_type": "code",
      "metadata": {
        "id": "EOEjrf87hkZ2"
      },
      "source": [
        "#Checking for duplicates\n",
        "cars.loc[cars.duplicated()]"
      ],
      "execution_count": null,
      "outputs": []
    },
    {
      "cell_type": "code",
      "metadata": {
        "id": "pnZsOFIthkdC"
      },
      "source": [
        "cars.columns"
      ],
      "execution_count": null,
      "outputs": []
    },
    {
      "cell_type": "code",
      "metadata": {
        "id": "tLzcRR8ZhkgN"
      },
      "source": [
        "plt.figure(figsize=(20,8))\n",
        "\n",
        "plt.subplot(1,2,1)\n",
        "plt.title('Car Price Distribution Plot')\n",
        "sns.distplot(cars.price)\n",
        "\n",
        "plt.subplot(1,2,2)\n",
        "plt.title('Car Price Spread')\n",
        "sns.boxplot(y=cars.price)\n",
        "\n",
        "plt.show()"
      ],
      "execution_count": null,
      "outputs": []
    },
    {
      "cell_type": "code",
      "metadata": {
        "id": "sdQF0IuWhki8"
      },
      "source": [
        "print(cars.price.describe(percentiles = [0.25,0.50,0.75,0.85,0.90,1]))"
      ],
      "execution_count": null,
      "outputs": []
    },
    {
      "cell_type": "code",
      "metadata": {
        "id": "Ehy3SvsZhkl4"
      },
      "source": [
        "plt.figure(figsize=(25, 6))\n",
        "\n",
        "plt.subplot(1,3,1)\n",
        "plt1 = cars.CompanyName.value_counts().plot(kind='bar')\n",
        "plt.title('Companies Histogram')\n",
        "plt1.set(xlabel = 'Car company', ylabel='Frequency of company')\n",
        "\n",
        "plt.subplot(1,3,2)\n",
        "plt1 = cars.fueltype.value_counts().plot(kind='bar')\n",
        "plt.title('Fuel Type Histogram')\n",
        "plt1.set(xlabel = 'Fuel Type', ylabel='Frequency of fuel type')\n",
        "\n",
        "plt.subplot(1,3,3)\n",
        "plt1 = cars.carbody.value_counts().plot(kind='bar')\n",
        "plt.title('Car Type Histogram')\n",
        "plt1.set(xlabel = 'Car Type', ylabel='Frequency of Car type')\n",
        "\n",
        "plt.show()"
      ],
      "execution_count": null,
      "outputs": []
    },
    {
      "cell_type": "code",
      "metadata": {
        "id": "drB7iCffhkpA"
      },
      "source": [
        "plt.figure(figsize=(20,8))\n",
        "\n",
        "plt.subplot(1,2,1)\n",
        "plt.title('Symboling Histogram')\n",
        "sns.countplot(cars.symboling, palette=(\"cubehelix\"))\n",
        "\n",
        "plt.subplot(1,2,2)\n",
        "plt.title('Symboling vs Price')\n",
        "sns.boxplot(x=cars.symboling, y=cars.price, palette=(\"cubehelix\"))\n",
        "\n",
        "plt.show()\n"
      ],
      "execution_count": null,
      "outputs": []
    },
    {
      "cell_type": "code",
      "metadata": {
        "id": "w8A7U1PIixBM"
      },
      "source": [
        "plt.figure(figsize=(20,8))\n",
        "\n",
        "plt.subplot(1,2,1)\n",
        "plt.title('Engine Type Histogram')\n",
        "sns.countplot(cars.enginetype, palette=(\"Blues_d\"))\n",
        "\n",
        "plt.subplot(1,2,2)\n",
        "plt.title('Engine Type vs Price')\n",
        "sns.boxplot(x=cars.enginetype, y=cars.price, palette=(\"PuBuGn\"))\n",
        "\n",
        "plt.show()\n",
        "\n",
        "df = pd.DataFrame(cars.groupby(['enginetype'])['price'].mean().sort_values(ascending = False))\n",
        "df.plot.bar(figsize=(8,6))\n",
        "plt.title('Engine Type vs Average Price')\n",
        "plt.show()\n"
      ],
      "execution_count": null,
      "outputs": []
    },
    {
      "cell_type": "code",
      "metadata": {
        "id": "8_23i-jJixKq"
      },
      "source": [
        "plt.figure(figsize=(25, 6))\n",
        "\n",
        "df = pd.DataFrame(cars.groupby(['CompanyName'])['price'].mean().sort_values(ascending = False))\n",
        "df.plot.bar()\n",
        "plt.title('Company Name vs Average Price')\n",
        "plt.show()\n",
        "\n",
        "df = pd.DataFrame(cars.groupby(['fueltype'])['price'].mean().sort_values(ascending = False))\n",
        "df.plot.bar()\n",
        "plt.title('Fuel Type vs Average Price')\n",
        "plt.show()\n",
        "\n",
        "df = pd.DataFrame(cars.groupby(['carbody'])['price'].mean().sort_values(ascending = False))\n",
        "df.plot.bar()\n",
        "plt.title('Car Type vs Average Price')\n",
        "plt.show()"
      ],
      "execution_count": null,
      "outputs": []
    },
    {
      "cell_type": "code",
      "metadata": {
        "id": "zt0Cb7bfixSy"
      },
      "source": [
        "plt.figure(figsize=(15,5))\n",
        "\n",
        "plt.subplot(1,2,1)\n",
        "plt.title('Door Number Histogram')\n",
        "sns.countplot(cars.doornumber, palette=(\"plasma\"))\n",
        "\n",
        "plt.subplot(1,2,2)\n",
        "plt.title('Door Number vs Price')\n",
        "sns.boxplot(x=cars.doornumber, y=cars.price, palette=(\"plasma\"))\n",
        "\n",
        "plt.show()\n",
        "\n",
        "plt.figure(figsize=(15,5))\n",
        "\n",
        "plt.subplot(1,2,1)\n",
        "plt.title('Aspiration Histogram')\n",
        "sns.countplot(cars.aspiration, palette=(\"plasma\"))\n",
        "\n",
        "plt.subplot(1,2,2)\n",
        "plt.title('Aspiration vs Price')\n",
        "sns.boxplot(x=cars.aspiration, y=cars.price, palette=(\"plasma\"))\n",
        "\n",
        "plt.show()"
      ],
      "execution_count": null,
      "outputs": []
    },
    {
      "cell_type": "code",
      "metadata": {
        "id": "9rwPW3yOixWC"
      },
      "source": [
        "def plot_count(x,fig):\n",
        "    plt.subplot(4,2,fig)\n",
        "    plt.title(x+' Histogram')\n",
        "    sns.countplot(cars[x],palette=(\"magma\"))\n",
        "    plt.subplot(4,2,(fig+1))\n",
        "    plt.title(x+' vs Price')\n",
        "    sns.boxplot(x=cars[x], y=cars.price, palette=(\"magma\"))\n",
        "    \n",
        "plt.figure(figsize=(15,20))\n",
        "\n",
        "plot_count('enginelocation', 1)\n",
        "plot_count('cylindernumber', 3)\n",
        "plot_count('fuelsystem', 5)\n",
        "plot_count('drivewheel', 7)\n",
        "\n",
        "plt.tight_layout()\n"
      ],
      "execution_count": null,
      "outputs": []
    },
    {
      "cell_type": "code",
      "metadata": {
        "id": "rBBPjRvZixZe"
      },
      "source": [
        "def scatter(x,fig):\n",
        "    plt.subplot(5,2,fig)\n",
        "    plt.scatter(cars[x],cars['price'])\n",
        "    plt.title(x+' vs Price')\n",
        "    plt.ylabel('Price')\n",
        "    plt.xlabel(x)\n",
        "\n",
        "plt.figure(figsize=(10,20))\n",
        "\n",
        "scatter('carlength', 1)\n",
        "scatter('carwidth', 2)\n",
        "scatter('carheight', 3)\n",
        "scatter('curbweight', 4)\n",
        "\n",
        "plt.tight_layout()\n"
      ],
      "execution_count": null,
      "outputs": []
    },
    {
      "cell_type": "code",
      "metadata": {
        "id": "omKEdbFiixcs"
      },
      "source": [
        "def pp(x,y,z):\n",
        "    sns.pairplot(cars, x_vars=[x,y,z], y_vars='price',size=4, aspect=1, kind='scatter')\n",
        "    plt.show()\n",
        "\n",
        "pp('enginesize', 'boreratio', 'stroke')\n",
        "pp('compressionratio', 'horsepower', 'peakrpm')\n",
        "pp('wheelbase', 'citympg', 'highwaympg')\n"
      ],
      "execution_count": null,
      "outputs": []
    },
    {
      "cell_type": "code",
      "metadata": {
        "id": "l9rG__QIixf4"
      },
      "source": [
        "np.corrcoef(cars['carlength'], cars['carwidth'])[0, 1]"
      ],
      "execution_count": null,
      "outputs": []
    },
    {
      "cell_type": "code",
      "metadata": {
        "id": "Xnu7UpfIixjd"
      },
      "source": [
        "#Fuel economy\n",
        "cars['fueleconomy'] = (0.55 * cars['citympg']) + (0.45 * cars['highwaympg'])"
      ],
      "execution_count": null,
      "outputs": []
    },
    {
      "cell_type": "code",
      "metadata": {
        "id": "ikCMUuZTixnS"
      },
      "source": [
        "#Binning the Car Companies based on avg prices of each Company.\n",
        "cars['price'] = cars['price'].astype('int')\n",
        "temp = cars.copy()\n",
        "table = temp.groupby(['CompanyName'])['price'].mean()\n",
        "temp = temp.merge(table.reset_index(), how='left',on='CompanyName')\n",
        "bins = [0,10000,20000,40000]\n",
        "cars_bin=['Budget','Medium','Highend']\n",
        "cars['carsrange'] = pd.cut(temp['price_y'],bins,right=False,labels=cars_bin)\n",
        "cars.head()"
      ],
      "execution_count": null,
      "outputs": []
    },
    {
      "cell_type": "code",
      "metadata": {
        "id": "NnKUio4MjNNK"
      },
      "source": [
        "plt.figure(figsize=(8,6))\n",
        "\n",
        "plt.title('Fuel economy vs Price')\n",
        "sns.scatterplot(x=cars['fueleconomy'],y=cars['price'],hue=cars['drivewheel'])\n",
        "plt.xlabel('Fuel Economy')\n",
        "plt.ylabel('Price')\n",
        "\n",
        "plt.show()\n",
        "plt.tight_layout()"
      ],
      "execution_count": null,
      "outputs": []
    },
    {
      "cell_type": "code",
      "metadata": {
        "id": "OsocdweRjNbY"
      },
      "source": [
        "\n",
        "plt.figure(figsize=(25, 6))\n",
        "\n",
        "df = pd.DataFrame(cars.groupby(['fuelsystem','drivewheel','carsrange'])['price'].mean().unstack(fill_value=0))\n",
        "df.plot.bar()\n",
        "plt.title('Car Range vs Average Price')\n",
        "plt.show()"
      ],
      "execution_count": null,
      "outputs": []
    },
    {
      "cell_type": "code",
      "metadata": {
        "id": "OGZDklGjjWCs"
      },
      "source": [
        "cars_lr = cars[['price', 'fueltype', 'aspiration','carbody', 'drivewheel','wheelbase',\n",
        "                  'curbweight', 'enginetype', 'cylindernumber', 'enginesize', 'boreratio','horsepower', \n",
        "                    'fueleconomy', 'carlength','carwidth', 'carsrange']]\n",
        "cars_lr.head()"
      ],
      "execution_count": null,
      "outputs": []
    },
    {
      "cell_type": "code",
      "metadata": {
        "id": "Syho4IWOja7B"
      },
      "source": [
        "sns.pairplot(cars_lr)\n",
        "plt.show()\n"
      ],
      "execution_count": null,
      "outputs": []
    },
    {
      "cell_type": "code",
      "metadata": {
        "id": "IqiaZbweja-_"
      },
      "source": [
        "# Defining the map function\n",
        "def dummies(x,df):\n",
        "    temp = pd.get_dummies(df[x], drop_first = True)\n",
        "    df = pd.concat([df, temp], axis = 1)\n",
        "    df.drop([x], axis = 1, inplace = True)\n",
        "    return df\n",
        "# Applying the function to the cars_lr\n",
        "\n",
        "cars_lr = dummies('fueltype',cars_lr)\n",
        "cars_lr = dummies('aspiration',cars_lr)\n",
        "cars_lr = dummies('carbody',cars_lr)\n",
        "cars_lr = dummies('drivewheel',cars_lr)\n",
        "cars_lr = dummies('enginetype',cars_lr)\n",
        "cars_lr = dummies('cylindernumber',cars_lr)\n",
        "cars_lr = dummies('carsrange',cars_lr)"
      ],
      "execution_count": null,
      "outputs": []
    },
    {
      "cell_type": "code",
      "metadata": {
        "id": "_O4do4dXjkRU"
      },
      "source": [
        "cars_lr.head()"
      ],
      "execution_count": null,
      "outputs": []
    },
    {
      "cell_type": "code",
      "metadata": {
        "id": "89E21E09jkVz"
      },
      "source": [
        "cars_lr.shape"
      ],
      "execution_count": null,
      "outputs": []
    },
    {
      "cell_type": "code",
      "metadata": {
        "id": "oTp7nV5EjkZq"
      },
      "source": [
        "from sklearn.model_selection import train_test_split\n",
        "\n",
        "np.random.seed(0)\n",
        "df_train, df_test = train_test_split(cars_lr, train_size = 0.7, test_size = 0.3, random_state = 100)"
      ],
      "execution_count": null,
      "outputs": []
    },
    {
      "cell_type": "code",
      "metadata": {
        "id": "nvvo7L4ujrIy"
      },
      "source": [
        "from sklearn.preprocessing import MinMaxScaler\n",
        "\n",
        "scaler = MinMaxScaler()\n",
        "num_vars = ['wheelbase', 'curbweight', 'enginesize', 'boreratio', 'horsepower','fueleconomy','carlength','carwidth','price']\n",
        "df_train[num_vars] = scaler.fit_transform(df_train[num_vars])"
      ],
      "execution_count": null,
      "outputs": []
    },
    {
      "cell_type": "code",
      "metadata": {
        "id": "9j5uN6FpjrNr"
      },
      "source": [
        "df_train.head()"
      ],
      "execution_count": null,
      "outputs": []
    },
    {
      "cell_type": "code",
      "metadata": {
        "id": "ngTBiCGrjrS8"
      },
      "source": [
        "df_train.describe()"
      ],
      "execution_count": null,
      "outputs": []
    },
    {
      "cell_type": "code",
      "metadata": {
        "id": "hr3maML1jrW9"
      },
      "source": [
        "#Correlation using heatmap\n",
        "plt.figure(figsize = (30, 25))\n",
        "sns.heatmap(df_train.corr(), annot = True, cmap=\"YlGnBu\")\n",
        "plt.show()"
      ],
      "execution_count": null,
      "outputs": []
    },
    {
      "cell_type": "code",
      "metadata": {
        "id": "BtKbaETijrae"
      },
      "source": [
        "#Dividing data into X and y variables\n",
        "y_train = df_train.pop('price')\n",
        "X_train = df_train"
      ],
      "execution_count": null,
      "outputs": []
    },
    {
      "cell_type": "code",
      "metadata": {
        "id": "eYVnRGpej3Kt"
      },
      "source": [
        "#RFE\n",
        "from sklearn.feature_selection import RFE\n",
        "from sklearn.linear_model import LinearRegression\n",
        "import statsmodels.api as sm \n",
        "from statsmodels.stats.outliers_influence import variance_inflation_factor"
      ],
      "execution_count": null,
      "outputs": []
    },
    {
      "cell_type": "code",
      "metadata": {
        "id": "7Et0fS4gj6HE"
      },
      "source": [
        "lm = LinearRegression()\n",
        "lm.fit(X_train,y_train)\n",
        "rfe = RFE(lm, 10)\n",
        "rfe = rfe.fit(X_train, y_train)"
      ],
      "execution_count": null,
      "outputs": []
    },
    {
      "cell_type": "code",
      "metadata": {
        "id": "t34qthu7j7tz"
      },
      "source": [
        "list(zip(X_train.columns,rfe.support_,rfe.ranking_))"
      ],
      "execution_count": null,
      "outputs": []
    },
    {
      "cell_type": "code",
      "metadata": {
        "id": "hxmXfpB3j6YT"
      },
      "source": [
        "X_train.columns[rfe.support_]"
      ],
      "execution_count": null,
      "outputs": []
    },
    {
      "cell_type": "code",
      "metadata": {
        "id": "txaQwp9cj6iu"
      },
      "source": [
        "X_train_rfe = X_train[X_train.columns[rfe.support_]]\n",
        "X_train_rfe.head()"
      ],
      "execution_count": null,
      "outputs": []
    },
    {
      "cell_type": "code",
      "metadata": {
        "id": "FFibrbbmj6ng"
      },
      "source": [
        "def build_model(X,y):\n",
        "    X = sm.add_constant(X) #Adding the constant\n",
        "    lm = sm.OLS(y,X).fit() # fitting the model\n",
        "    print(lm.summary()) # model summary\n",
        "    return X\n",
        "    \n",
        "def checkVIF(X):\n",
        "    vif = pd.DataFrame()\n",
        "    vif['Features'] = X.columns\n",
        "    vif['VIF'] = [variance_inflation_factor(X.values, i) for i in range(X.shape[1])]\n",
        "    vif['VIF'] = round(vif['VIF'], 2)\n",
        "    vif = vif.sort_values(by = \"VIF\", ascending = False)\n",
        "     return(vif)"
      ],
      "execution_count": null,
      "outputs": []
    },
    {
      "cell_type": "code",
      "metadata": {
        "id": "XqPlLAHxj6vt"
      },
      "source": [
        "X_train_new = build_model(X_train_rfe,y_train)"
      ],
      "execution_count": null,
      "outputs": []
    },
    {
      "cell_type": "code",
      "metadata": {
        "id": "xybgz62Dj64T"
      },
      "source": [
        "\n",
        "X_train_new = X_train_rfe.drop([\"twelve\"], axis = 1)"
      ],
      "execution_count": null,
      "outputs": []
    },
    {
      "cell_type": "code",
      "metadata": {
        "id": "m472MwHoj3US"
      },
      "source": [
        "X_train_new = build_model(X_train_new,y_train)"
      ],
      "execution_count": null,
      "outputs": []
    },
    {
      "cell_type": "code",
      "metadata": {
        "id": "jb7zK1SOkZ9c"
      },
      "source": [
        "X_train_new = X_train_new.drop([\"fueleconomy\"], axis = 1)"
      ],
      "execution_count": null,
      "outputs": []
    },
    {
      "cell_type": "code",
      "metadata": {
        "id": "IVg1dnXckaH0"
      },
      "source": [
        "X_train_new = build_model(X_train_new,y_train)"
      ],
      "execution_count": null,
      "outputs": []
    },
    {
      "cell_type": "code",
      "metadata": {
        "id": "P2wfDtfRkaLN"
      },
      "source": [
        "#Calculating the Variance Inflation Factor\n",
        "checkVIF(X_train_new)"
      ],
      "execution_count": null,
      "outputs": []
    },
    {
      "cell_type": "code",
      "metadata": {
        "id": "QrA0FixCkicS"
      },
      "source": [
        "X_train_new = X_train_new.drop([\"curbweight\"], axis = 1)"
      ],
      "execution_count": null,
      "outputs": []
    },
    {
      "cell_type": "code",
      "metadata": {
        "id": "StekrcWzkkpa"
      },
      "source": [
        "X_train_new = build_model(X_train_new,y_train)"
      ],
      "execution_count": null,
      "outputs": []
    },
    {
      "cell_type": "code",
      "metadata": {
        "id": "5PIEBR-ikkth"
      },
      "source": [
        "checkVIF(X_train_new)"
      ],
      "execution_count": null,
      "outputs": []
    },
    {
      "cell_type": "code",
      "metadata": {
        "id": "Xc4EIadkkkwy"
      },
      "source": [
        "X_train_new = X_train_new.drop([\"sedan\"], axis = 1)"
      ],
      "execution_count": null,
      "outputs": []
    },
    {
      "cell_type": "code",
      "metadata": {
        "id": "8OsbBfJvkk0e"
      },
      "source": [
        "X_train_new = build_model(X_train_new,y_train)"
      ],
      "execution_count": null,
      "outputs": []
    },
    {
      "cell_type": "code",
      "metadata": {
        "id": "0Ok1NUdmlQg5"
      },
      "source": [
        "checkVIF(X_train_new)"
      ],
      "execution_count": null,
      "outputs": []
    },
    {
      "cell_type": "code",
      "metadata": {
        "id": "Sim220TrlQsA"
      },
      "source": [
        "X_train_new = X_train_new.drop([\"wagon\"], axis = 1)"
      ],
      "execution_count": null,
      "outputs": []
    },
    {
      "cell_type": "code",
      "metadata": {
        "id": "e3iGuEc9lQ12"
      },
      "source": [
        "X_train_new = build_model(X_train_new,y_train)"
      ],
      "execution_count": null,
      "outputs": []
    },
    {
      "cell_type": "code",
      "metadata": {
        "id": "pp07lZEflQ5M"
      },
      "source": [
        "checkVIF(X_train_new)"
      ],
      "execution_count": null,
      "outputs": []
    },
    {
      "cell_type": "code",
      "metadata": {
        "id": "ezODHEL8lRC0"
      },
      "source": [
        "#Dropping dohcv to see the changes in model statistics\n",
        "X_train_new = X_train_new.drop([\"dohcv\"], axis = 1)\n",
        "X_train_new = build_model(X_train_new,y_train)\n",
        "checkVIF(X_train_new)"
      ],
      "execution_count": null,
      "outputs": []
    },
    {
      "cell_type": "code",
      "metadata": {
        "id": "FaKw6u8ilgEg"
      },
      "source": [
        "lm = sm.OLS(y_train,X_train_new).fit()\n",
        "y_train_price = lm.predict(X_train_new)"
      ],
      "execution_count": null,
      "outputs": []
    },
    {
      "cell_type": "code",
      "metadata": {
        "id": "IuZdjGBglgIZ"
      },
      "source": [
        "# Plot the histogram of the error terms\n",
        "fig = plt.figure()\n",
        "sns.distplot((y_train - y_train_price), bins = 20)\n",
        "fig.suptitle('Error Terms', fontsize = 20)                  # Plot heading \n",
        "plt.xlabel('Errors', fontsize = 18)"
      ],
      "execution_count": null,
      "outputs": []
    },
    {
      "cell_type": "code",
      "metadata": {
        "id": "SopJXsYull2f"
      },
      "source": [
        "#Scaling the test set\n",
        "num_vars = ['wheelbase', 'curbweight', 'enginesize', 'boreratio', 'horsepower','fueleconomy','carlength','carwidth','price']\n",
        "df_test[num_vars] = scaler.fit_transform(df_test[num_vars])"
      ],
      "execution_count": null,
      "outputs": []
    },
    {
      "cell_type": "code",
      "metadata": {
        "id": "K4eWfv5zlmCa"
      },
      "source": [
        "#Dividing into X and y\n",
        "y_test = df_test.pop('price')\n",
        "X_test = df_test"
      ],
      "execution_count": null,
      "outputs": []
    },
    {
      "cell_type": "code",
      "metadata": {
        "id": "TG8baRlblgNC"
      },
      "source": [
        "# Now let's use our model to make predictions.\n",
        "X_train_new = X_train_new.drop('const',axis=1)\n",
        "# Creating X_test_new dataframe by dropping variables from X_test\n",
        "X_test_new = X_test[X_train_new.columns]\n",
        "\n",
        "# Adding a constant variable \n",
        "X_test_new = sm.add_constant(X_test_new)"
      ],
      "execution_count": null,
      "outputs": []
    },
    {
      "cell_type": "code",
      "metadata": {
        "id": "AK4NUu1Nlra3"
      },
      "source": [
        "# Making predictions\n",
        "y_pred = lm.predict(X_test_new)"
      ],
      "execution_count": null,
      "outputs": []
    },
    {
      "cell_type": "code",
      "metadata": {
        "id": "Cmy37tABlrgx"
      },
      "source": [
        "from sklearn.metrics import r2_score \n",
        "r2_score(y_test, y_pred)"
      ],
      "execution_count": null,
      "outputs": []
    },
    {
      "cell_type": "code",
      "metadata": {
        "id": "xINIyPLdlrlH"
      },
      "source": [
        "#EVALUATION OF THE MODEL\n",
        "# Plotting y_test and y_pred to understand the spread.\n",
        "fig = plt.figure()\n",
        "plt.scatter(y_test,y_pred)\n",
        "fig.suptitle('y_test vs y_pred', fontsize=20)              # Plot heading \n",
        "plt.xlabel('y_test', fontsize=18)                          # X-label\n",
        "plt.ylabel('y_pred', fontsize=16)"
      ],
      "execution_count": null,
      "outputs": []
    },
    {
      "cell_type": "code",
      "metadata": {
        "id": "tBUjavOblrqn"
      },
      "source": [
        "print(lm.summary())"
      ],
      "execution_count": null,
      "outputs": []
    }
  ]
}